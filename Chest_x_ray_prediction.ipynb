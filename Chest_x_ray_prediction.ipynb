{
  "nbformat": 4,
  "nbformat_minor": 0,
  "metadata": {
    "colab": {
      "name": "Chest x-ray prediction.ipynb",
      "provenance": [],
      "collapsed_sections": [
        "BQUbHW6h9djb",
        "xEuPmlp_DCkZ",
        "_199JXX6FSRM"
      ],
      "toc_visible": true,
      "mount_file_id": "1E1eT4UGwxddGfP-0JCyhVPsXNRMbW_Mk",
      "authorship_tag": "ABX9TyNCkk5ysLTNt/p3BDmzAcbf",
      "include_colab_link": true
    },
    "kernelspec": {
      "name": "python3",
      "display_name": "Python 3"
    },
    "accelerator": "GPU"
  },
  "cells": [
    {
      "cell_type": "markdown",
      "metadata": {
        "id": "view-in-github",
        "colab_type": "text"
      },
      "source": [
        "<a href=\"https://colab.research.google.com/github/ankitdv98/Chest-x-ray-prediction/blob/main/Chest_x_ray_prediction.ipynb\" target=\"_parent\"><img src=\"https://colab.research.google.com/assets/colab-badge.svg\" alt=\"Open In Colab\"/></a>"
      ]
    },
    {
      "cell_type": "markdown",
      "metadata": {
        "id": "BQUbHW6h9djb"
      },
      "source": [
        "# Push data from kaggle"
      ]
    },
    {
      "cell_type": "code",
      "metadata": {
        "id": "iB05s0vq_6jI"
      },
      "source": [
        "from tensorflow.compat.v1 import ConfigProto\r\n",
        "from tensorflow.compat.v1 import InteractiveSession\r\n",
        "\r\n",
        "config = ConfigProto()\r\n",
        "config.gpu_options.per_process_gpu_memory_fraction = 0.5\r\n",
        "config.gpu_options.allow_growth = True\r\n",
        "session = InteractiveSession(config=config)"
      ],
      "execution_count": 1,
      "outputs": []
    },
    {
      "cell_type": "code",
      "metadata": {
        "id": "acHI6pli3RG2"
      },
      "source": [
        "from google.colab import files\n",
        "!pip install -q kaggle"
      ],
      "execution_count": 2,
      "outputs": []
    },
    {
      "cell_type": "code",
      "metadata": {
        "colab": {
          "base_uri": "https://localhost:8080/"
        },
        "id": "5pUD1e2-8O_e",
        "outputId": "b6e12845-d50a-4cac-cd6d-793b15237c8e"
      },
      "source": [
        "!ls"
      ],
      "execution_count": 2,
      "outputs": [
        {
          "output_type": "stream",
          "text": [
            "drive  sample_data\n"
          ],
          "name": "stdout"
        }
      ]
    },
    {
      "cell_type": "code",
      "metadata": {
        "id": "Kutcnm2c9hWj"
      },
      "source": [
        "import os\n",
        "os.environ['KAGGLE_CONFIG_DIR'] = \"/content/drive/MyDrive/Kaggle/X-ray Model\"# /content/gdrive/My Drive/Kaggle is the path where kaggle.json is present in the Google Drive"
      ],
      "execution_count": 3,
      "outputs": []
    },
    {
      "cell_type": "code",
      "metadata": {
        "colab": {
          "base_uri": "https://localhost:8080/"
        },
        "id": "67k-DLUK9mK0",
        "outputId": "8477e962-4485-4998-ca82-d2f43ed2deb2"
      },
      "source": [
        "#changing the working directory\n",
        "%cd /content/drive/MyDrive/Kaggle/X-ray Model\n"
      ],
      "execution_count": 4,
      "outputs": [
        {
          "output_type": "stream",
          "text": [
            "/content/drive/MyDrive/Kaggle/X-ray Model\n"
          ],
          "name": "stdout"
        }
      ]
    },
    {
      "cell_type": "code",
      "metadata": {
        "colab": {
          "base_uri": "https://localhost:8080/"
        },
        "id": "ESEx9dwm96jF",
        "outputId": "c90a794e-df1e-441d-ff3d-82ff652f140b"
      },
      "source": [
        "#Check the present working directory using pwd command\r\n",
        "!pwd"
      ],
      "execution_count": 5,
      "outputs": [
        {
          "output_type": "stream",
          "text": [
            "/content/drive/My Drive/Kaggle/X-ray Model\n"
          ],
          "name": "stdout"
        }
      ]
    },
    {
      "cell_type": "code",
      "metadata": {
        "colab": {
          "base_uri": "https://localhost:8080/"
        },
        "id": "iVmIz9vV7zgX",
        "outputId": "105938ff-78d5-43c5-8354-4b601e8575d2"
      },
      "source": [
        "!kaggle datasets download -d paultimothymooney/chest-xray-pneumonia"
      ],
      "execution_count": 10,
      "outputs": [
        {
          "output_type": "stream",
          "text": [
            "Downloading chest-xray-pneumonia.zip to /content/drive/My Drive/Kaggle/X-ray Model\n",
            "100% 2.29G/2.29G [00:42<00:00, 50.4MB/s]\n",
            "100% 2.29G/2.29G [00:42<00:00, 58.4MB/s]\n"
          ],
          "name": "stdout"
        }
      ]
    },
    {
      "cell_type": "code",
      "metadata": {
        "id": "JWtiF8PSUNw2"
      },
      "source": [
        "!unzip chest-xray-pneumonia.zip"
      ],
      "execution_count": null,
      "outputs": []
    },
    {
      "cell_type": "code",
      "metadata": {
        "colab": {
          "base_uri": "https://localhost:8080/"
        },
        "id": "7asnRlLlXI8w",
        "outputId": "9f285155-4dc7-4a3e-93af-a790d243d11c"
      },
      "source": [
        "!nvidia-smi"
      ],
      "execution_count": 6,
      "outputs": [
        {
          "output_type": "stream",
          "text": [
            "Fri Jan 15 11:05:11 2021       \n",
            "+-----------------------------------------------------------------------------+\n",
            "| NVIDIA-SMI 460.27.04    Driver Version: 418.67       CUDA Version: 10.1     |\n",
            "|-------------------------------+----------------------+----------------------+\n",
            "| GPU  Name        Persistence-M| Bus-Id        Disp.A | Volatile Uncorr. ECC |\n",
            "| Fan  Temp  Perf  Pwr:Usage/Cap|         Memory-Usage | GPU-Util  Compute M. |\n",
            "|                               |                      |               MIG M. |\n",
            "|===============================+======================+======================|\n",
            "|   0  Tesla P100-PCIE...  Off  | 00000000:00:04.0 Off |                    0 |\n",
            "| N/A   34C    P0    31W / 250W |    359MiB / 16280MiB |      0%      Default |\n",
            "|                               |                      |                 ERR! |\n",
            "+-------------------------------+----------------------+----------------------+\n",
            "                                                                               \n",
            "+-----------------------------------------------------------------------------+\n",
            "| Processes:                                                                  |\n",
            "|  GPU   GI   CI        PID   Type   Process name                  GPU Memory |\n",
            "|        ID   ID                                                   Usage      |\n",
            "|=============================================================================|\n",
            "|  No running processes found                                                 |\n",
            "+-----------------------------------------------------------------------------+\n"
          ],
          "name": "stdout"
        }
      ]
    },
    {
      "cell_type": "markdown",
      "metadata": {
        "id": "xEuPmlp_DCkZ"
      },
      "source": [
        "# Vgg16 model\r\n",
        "Using transfer learning approach"
      ]
    },
    {
      "cell_type": "code",
      "metadata": {
        "id": "GDpYgwa8_yMY"
      },
      "source": [
        "from keras.layers import Input, Lambda, Dense, Flatten\r\n",
        "from keras.models import Model\r\n",
        "from keras.applications.vgg16 import VGG16\r\n",
        "from keras.applications.vgg16 import preprocess_input\r\n",
        "from keras.preprocessing import image\r\n",
        "from keras.preprocessing.image import ImageDataGenerator\r\n",
        "from keras.models import Sequential\r\n",
        "import numpy as np\r\n",
        "from glob import glob\r\n",
        "import matplotlib.pyplot as plt\r\n"
      ],
      "execution_count": 7,
      "outputs": []
    },
    {
      "cell_type": "code",
      "metadata": {
        "id": "cSabJi84DF9p"
      },
      "source": [
        "IMAGE_SIZE = [224, 224]\r\n",
        "\r\n",
        "train_path = 'chest_xray/train'\r\n",
        "test_path = 'chest_xray/test'\r\n",
        "val_path= 'chest_xray/val'"
      ],
      "execution_count": 8,
      "outputs": []
    },
    {
      "cell_type": "code",
      "metadata": {
        "id": "7zyXZ2dKDSCl"
      },
      "source": [
        "vgg = VGG16(input_shape=IMAGE_SIZE + [3], weights='imagenet', include_top=False)\r\n",
        "\r\n",
        "# using existing weights of vgg16\r\n",
        "for layer in vgg.layers:\r\n",
        "  layer.trainable = False"
      ],
      "execution_count": 26,
      "outputs": []
    },
    {
      "cell_type": "code",
      "metadata": {
        "colab": {
          "base_uri": "https://localhost:8080/"
        },
        "id": "OYlZcJhKDhCa",
        "outputId": "bc173ae0-2458-45c3-99c2-8b5e54d3ccd4"
      },
      "source": [
        "# no of classes\r\n",
        "folders= glob(train_path+\"/*\")\r\n",
        "print(len(folders))\r\n",
        "folders"
      ],
      "execution_count": 27,
      "outputs": [
        {
          "output_type": "stream",
          "text": [
            "2\n"
          ],
          "name": "stdout"
        },
        {
          "output_type": "execute_result",
          "data": {
            "text/plain": [
              "['chest_xray/train/NORMAL', 'chest_xray/train/PNEUMONIA']"
            ]
          },
          "metadata": {
            "tags": []
          },
          "execution_count": 27
        }
      ]
    },
    {
      "cell_type": "code",
      "metadata": {
        "colab": {
          "base_uri": "https://localhost:8080/"
        },
        "id": "QrNQn2l1DsEb",
        "outputId": "05aa1c5c-eff4-4f83-90ea-d6f7e36ecb4e"
      },
      "source": [
        "x= Flatten()(vgg.output)\r\n",
        "pred= Dense(len(folders), activation= 'softmax')(x)\r\n",
        "\r\n",
        "model= Model(inputs= vgg.input, outputs= pred)\r\n",
        "model.compile(\r\n",
        "  loss='categorical_crossentropy',\r\n",
        "  optimizer='adam',\r\n",
        "  metrics=['accuracy']\r\n",
        ")\r\n",
        "model.summary()\r\n"
      ],
      "execution_count": 28,
      "outputs": [
        {
          "output_type": "stream",
          "text": [
            "Model: \"model_2\"\n",
            "_________________________________________________________________\n",
            "Layer (type)                 Output Shape              Param #   \n",
            "=================================================================\n",
            "input_3 (InputLayer)         [(None, 224, 224, 3)]     0         \n",
            "_________________________________________________________________\n",
            "block1_conv1 (Conv2D)        (None, 224, 224, 64)      1792      \n",
            "_________________________________________________________________\n",
            "block1_conv2 (Conv2D)        (None, 224, 224, 64)      36928     \n",
            "_________________________________________________________________\n",
            "block1_pool (MaxPooling2D)   (None, 112, 112, 64)      0         \n",
            "_________________________________________________________________\n",
            "block2_conv1 (Conv2D)        (None, 112, 112, 128)     73856     \n",
            "_________________________________________________________________\n",
            "block2_conv2 (Conv2D)        (None, 112, 112, 128)     147584    \n",
            "_________________________________________________________________\n",
            "block2_pool (MaxPooling2D)   (None, 56, 56, 128)       0         \n",
            "_________________________________________________________________\n",
            "block3_conv1 (Conv2D)        (None, 56, 56, 256)       295168    \n",
            "_________________________________________________________________\n",
            "block3_conv2 (Conv2D)        (None, 56, 56, 256)       590080    \n",
            "_________________________________________________________________\n",
            "block3_conv3 (Conv2D)        (None, 56, 56, 256)       590080    \n",
            "_________________________________________________________________\n",
            "block3_pool (MaxPooling2D)   (None, 28, 28, 256)       0         \n",
            "_________________________________________________________________\n",
            "block4_conv1 (Conv2D)        (None, 28, 28, 512)       1180160   \n",
            "_________________________________________________________________\n",
            "block4_conv2 (Conv2D)        (None, 28, 28, 512)       2359808   \n",
            "_________________________________________________________________\n",
            "block4_conv3 (Conv2D)        (None, 28, 28, 512)       2359808   \n",
            "_________________________________________________________________\n",
            "block4_pool (MaxPooling2D)   (None, 14, 14, 512)       0         \n",
            "_________________________________________________________________\n",
            "block5_conv1 (Conv2D)        (None, 14, 14, 512)       2359808   \n",
            "_________________________________________________________________\n",
            "block5_conv2 (Conv2D)        (None, 14, 14, 512)       2359808   \n",
            "_________________________________________________________________\n",
            "block5_conv3 (Conv2D)        (None, 14, 14, 512)       2359808   \n",
            "_________________________________________________________________\n",
            "block5_pool (MaxPooling2D)   (None, 7, 7, 512)         0         \n",
            "_________________________________________________________________\n",
            "flatten_2 (Flatten)          (None, 25088)             0         \n",
            "_________________________________________________________________\n",
            "dense_2 (Dense)              (None, 2)                 50178     \n",
            "=================================================================\n",
            "Total params: 14,764,866\n",
            "Trainable params: 50,178\n",
            "Non-trainable params: 14,714,688\n",
            "_________________________________________________________________\n"
          ],
          "name": "stdout"
        }
      ]
    },
    {
      "cell_type": "markdown",
      "metadata": {
        "id": "_199JXX6FSRM"
      },
      "source": [
        "# Generating image data"
      ]
    },
    {
      "cell_type": "code",
      "metadata": {
        "id": "KzTcvTesE2xf"
      },
      "source": [
        "train_gen= ImageDataGenerator(rescale= 1./255,\r\n",
        "                              shear_range= 0.2,\r\n",
        "                              zoom_range= 0.2,\r\n",
        "                              horizontal_flip= True,\r\n",
        "                              rotation_range= 0.2\r\n",
        "                              )\r\n",
        "valid_gen= ImageDataGenerator(rescale= 1./255)\r\n",
        "test_gen= ImageDataGenerator(rescale= 1./255)"
      ],
      "execution_count": 12,
      "outputs": []
    },
    {
      "cell_type": "code",
      "metadata": {
        "colab": {
          "base_uri": "https://localhost:8080/"
        },
        "id": "4TwDL90DGmhS",
        "outputId": "216ef1eb-ed05-4ef5-ca36-2cc06150c5bc"
      },
      "source": [
        "train_ds= train_gen.flow_from_directory(train_path,\r\n",
        "                                        target_size= (224,224),\r\n",
        "                                        batch_size= 32,\r\n",
        "                                        class_mode= 'categorical')\r\n",
        "valid_ds= valid_gen.flow_from_directory('chest_xray/val',\r\n",
        "                                        target_size= (224,224),\r\n",
        "                                        batch_size= 32,\r\n",
        "                                        class_mode= 'categorical')"
      ],
      "execution_count": 13,
      "outputs": [
        {
          "output_type": "stream",
          "text": [
            "Found 5216 images belonging to 2 classes.\n",
            "Found 16 images belonging to 2 classes.\n"
          ],
          "name": "stdout"
        }
      ]
    },
    {
      "cell_type": "code",
      "metadata": {
        "colab": {
          "base_uri": "https://localhost:8080/"
        },
        "id": "nT-rRsDfKe4h",
        "outputId": "f33095f2-010c-42d2-83c4-0807fa653e22"
      },
      "source": [
        "test_ds= valid_gen.flow_from_directory(test_path,\r\n",
        "                                        target_size= (224,224),\r\n",
        "                                        batch_size= 32,\r\n",
        "                                        class_mode= 'categorical')"
      ],
      "execution_count": 14,
      "outputs": [
        {
          "output_type": "stream",
          "text": [
            "Found 624 images belonging to 2 classes.\n"
          ],
          "name": "stdout"
        }
      ]
    },
    {
      "cell_type": "markdown",
      "metadata": {
        "id": "-oZwPHkjKfT9"
      },
      "source": [
        "# model training and visualization\r\n",
        "Training on train and validating model on test data"
      ]
    },
    {
      "cell_type": "code",
      "metadata": {
        "colab": {
          "base_uri": "https://localhost:8080/"
        },
        "id": "xjoQ3nVgIPMz",
        "outputId": "7c45a3a7-407f-4c1d-a11f-00528e32dd13"
      },
      "source": [
        "r = model.fit(train_ds,\r\n",
        "              validation_data= test_ds,\r\n",
        "              epochs= 5,\r\n",
        "              steps_per_epoch=len(train_ds),\r\n",
        "              validation_steps=len(test_ds)\r\n",
        "              )\r\n",
        "# trained only for 5 epochs but updated weights for every batch obtained from data generator"
      ],
      "execution_count": 29,
      "outputs": [
        {
          "output_type": "stream",
          "text": [
            "Epoch 1/5\n",
            "163/163 [==============================] - 1333s 8s/step - loss: 0.3959 - accuracy: 0.8357 - val_loss: 0.2237 - val_accuracy: 0.9167\n",
            "Epoch 2/5\n",
            "163/163 [==============================] - 106s 651ms/step - loss: 0.1062 - accuracy: 0.9565 - val_loss: 0.5299 - val_accuracy: 0.8269\n",
            "Epoch 3/5\n",
            "163/163 [==============================] - 106s 648ms/step - loss: 0.0977 - accuracy: 0.9614 - val_loss: 0.2234 - val_accuracy: 0.9151\n",
            "Epoch 4/5\n",
            "163/163 [==============================] - 105s 645ms/step - loss: 0.0803 - accuracy: 0.9708 - val_loss: 0.2739 - val_accuracy: 0.9038\n",
            "Epoch 5/5\n",
            "163/163 [==============================] - 105s 643ms/step - loss: 0.0827 - accuracy: 0.9712 - val_loss: 0.4527 - val_accuracy: 0.8942\n"
          ],
          "name": "stdout"
        }
      ]
    },
    {
      "cell_type": "code",
      "metadata": {
        "colab": {
          "base_uri": "https://localhost:8080/"
        },
        "id": "ojuIJfnW7iXL",
        "outputId": "96044427-3b60-491a-fc90-db5ec1f9661b"
      },
      "source": [
        "r.history"
      ],
      "execution_count": 30,
      "outputs": [
        {
          "output_type": "execute_result",
          "data": {
            "text/plain": [
              "{'accuracy': [0.9097009301185608,\n",
              "  0.9570552110671997,\n",
              "  0.9660659432411194,\n",
              "  0.9679831266403198,\n",
              "  0.9706671833992004],\n",
              " 'loss': [0.22271126508712769,\n",
              "  0.106997050344944,\n",
              "  0.08835399150848389,\n",
              "  0.09016189724206924,\n",
              "  0.08060978353023529],\n",
              " 'val_accuracy': [0.9166666865348816,\n",
              "  0.8269230723381042,\n",
              "  0.9150640964508057,\n",
              "  0.9038461446762085,\n",
              "  0.8942307829856873],\n",
              " 'val_loss': [0.22367596626281738,\n",
              "  0.5298841595649719,\n",
              "  0.22341953217983246,\n",
              "  0.27391138672828674,\n",
              "  0.45267945528030396]}"
            ]
          },
          "metadata": {
            "tags": []
          },
          "execution_count": 30
        }
      ]
    },
    {
      "cell_type": "code",
      "metadata": {
        "colab": {
          "base_uri": "https://localhost:8080/",
          "height": 539
        },
        "id": "kawNfEO3IJS0",
        "outputId": "9ebadd40-01d2-4042-c260-82b1b533d819"
      },
      "source": [
        "plt.plot(r.history['loss'], label='train loss')\r\n",
        "plt.plot(r.history['val_loss'], label='val loss')\r\n",
        "plt.ylim(0, 1)\r\n",
        "plt.legend()\r\n",
        "plt.show()\r\n",
        "plt.savefig('LossVal_loss')\r\n",
        "\r\n",
        "# accuracies\r\n",
        "plt.plot(r.history['accuracy'], label='train acc')\r\n",
        "plt.plot(r.history['val_accuracy'], label='val acc')\r\n",
        "plt.ylim(0.4, 1)\r\n",
        "plt.legend()\r\n",
        "plt.show()\r\n",
        "plt.savefig('AccVal_acc')"
      ],
      "execution_count": 35,
      "outputs": [
        {
          "output_type": "display_data",
          "data": {
            "image/png": "[encoded data removed]",
            "text/plain": [
              "<Figure size 432x288 with 1 Axes>"
            ]
          },
          "metadata": {
            "tags": [],
            "needs_background": "light"
          }
        },
        {
          "output_type": "display_data",
          "data": {
            "image/png": "[encoded data removed]",
            "text/plain": [
              "<Figure size 432x288 with 1 Axes>"
            ]
          },
          "metadata": {
            "tags": [],
            "needs_background": "light"
          }
        },
        {
          "output_type": "display_data",
          "data": {
            "text/plain": [
              "<Figure size 432x288 with 0 Axes>"
            ]
          },
          "metadata": {
            "tags": []
          }
        }
      ]
    },
    {
      "cell_type": "code",
      "metadata": {
        "id": "UUABhcI7L1bQ"
      },
      "source": [
        "model.save('x-ray_model_vgg19.h5')"
      ],
      "execution_count": 36,
      "outputs": []
    },
    {
      "cell_type": "markdown",
      "metadata": {
        "id": "5Zn4piWUPFXb"
      },
      "source": [
        "# Prediction of new images\r\n",
        "Valid data contains 8 images for each class"
      ]
    },
    {
      "cell_type": "code",
      "metadata": {
        "id": "_2HGWxs4HmlA"
      },
      "source": [
        "from tensorflow.keras.models import load_model\r\n",
        "model = load_model('x-ray_model_vgg19.h5')"
      ],
      "execution_count": 49,
      "outputs": []
    },
    {
      "cell_type": "code",
      "metadata": {
        "id": "gpVn64oSHu6B"
      },
      "source": [
        "# data generator gives image array\r\n",
        "img_to_pred= in_img.reshape(1, in_img.shape[0], in_img.shape[1], in_img.shape[2])"
      ],
      "execution_count": 54,
      "outputs": []
    },
    {
      "cell_type": "code",
      "metadata": {
        "colab": {
          "base_uri": "https://localhost:8080/",
          "height": 256
        },
        "id": "2R5PyiA8JzGB",
        "outputId": "71f828cb-54ca-410b-ddba-1ef0903d5021"
      },
      "source": [
        "x,y = valid_ds.next()\r\n",
        "\r\n",
        "for i in range(2):\r\n",
        "    image = x[i]\r\n",
        "    in_img= image\r\n",
        "    img_to_pred= in_img.reshape(1, in_img.shape[0], in_img.shape[1], in_img.shape[2])\r\n",
        "    pred= np.argmax(model.predict(img_to_pred))\r\n",
        "    if np.argmax(y[i])== 0:\r\n",
        "      print(i+1, \", Actual Class: Normal\")\r\n",
        "    else:\r\n",
        "      print(i+1, \", Actual Class: Pneumonia\")\r\n",
        "    if pred==0:\r\n",
        "      print(\"Predicted Class: Normal\")\r\n",
        "    else:\r\n",
        "      print(\"Predicted Class: Pneumonia \")\r\n",
        "    plt.subplot(1,2, i+1)\r\n",
        "    plt.imshow(image)\r\n",
        "    plt.axis(\"off\")\r\n",
        "\r\n"
      ],
      "execution_count": 90,
      "outputs": [
        {
          "output_type": "stream",
          "text": [
            "1 , Actual Class: Pneumonia\n",
            "Predicted Class: Pneumonia \n",
            "2 , Actual Class: Normal\n",
            "Predicted Class: Pneumonia \n"
          ],
          "name": "stdout"
        },
        {
          "output_type": "display_data",
          "data": {
            "image/png": "[encoded data removed]",
            "text/plain": [
              "<Figure size 432x288 with 2 Axes>"
            ]
          },
          "metadata": {
            "tags": [],
            "needs_background": "light"
          }
        }
      ]
    }
  ]
}